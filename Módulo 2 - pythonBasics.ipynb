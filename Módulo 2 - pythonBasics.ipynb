{
 "cells": [
  {
   "cell_type": "code",
   "execution_count": 28,
   "id": "c6607b73",
   "metadata": {},
   "outputs": [
    {
     "name": "stdout",
     "output_type": "stream",
     "text": [
      "[1, 2, 3, 4, 5, 6, 7, 8, 9, 10]\n",
      "Foram encontrados 5 valores pares na lista [1, 2, 3, 4, 5, 6, 7, 8, 9, 10]\n"
     ]
    }
   ],
   "source": [
    "#1. Faça um programa que olhe todos os itens de uma lista e diga quantos deles\n",
    "#são pares:\n",
    "\n",
    "serie = list(range(1,11))\n",
    "pares = 0\n",
    "\n",
    "print(serie)\n",
    "\n",
    "for numero in serie:\n",
    "    resto = numero % 2\n",
    "    if resto != 0:\n",
    "        pares += 1\n",
    "        \n",
    "print(f'Foram encontrados {pares} valores pares na lista {serie}')        "
   ]
  },
  {
   "cell_type": "code",
   "execution_count": 30,
   "id": "44b2577d",
   "metadata": {},
   "outputs": [
    {
     "name": "stdout",
     "output_type": "stream",
     "text": [
      "Escreva uma palavra : alguem\n",
      "a\n",
      "l\n",
      "g\n",
      "u\n",
      "e\n",
      "m\n"
     ]
    }
   ],
   "source": [
    "#2.Faça um programa que peça para o usuário digitar uma palavra e imprima\n",
    "#cada letra em uma linha\n",
    "\n",
    "palavra = input('Escreva uma palavra : ')\n",
    "\n",
    "for letra in palavra:\n",
    "    print(letra)"
   ]
  },
  {
   "cell_type": "code",
   "execution_count": 84,
   "id": "e8254ac9",
   "metadata": {},
   "outputs": [
    {
     "name": "stdout",
     "output_type": "stream",
     "text": [
      "Insira uma lista de números separados por espaços : 1\n",
      "[1]\n",
      "Insira outra lista com a mesma qtd de números separados por espaços : 2\n",
      "[2] \n",
      "\n",
      "Somando cada elemento por posição de cada lista, teremos\n"
     ]
    },
    {
     "data": {
      "text/plain": [
       "[3]"
      ]
     },
     "execution_count": 84,
     "metadata": {},
     "output_type": "execute_result"
    }
   ],
   "source": [
    "#3.Faça uma função que recebe duas listas e retorna a soma item a item dessas\n",
    "#listas.\n",
    "#Exemplo: Se a função receber as listas [1,4,3] e [3,5,1], então a função deve\n",
    "#retornar [1+3, 4+5, 3+1] = [4, 9, 4].\n",
    "\n",
    "########################################FUNÇÂO\n",
    "def somalist(listaX,listaY):\n",
    "    montlist = []\n",
    "    for i in range(len(listaX)):\n",
    "    \n",
    "        montlist.append(listaX[i] + listaY[i])\n",
    "    return montlist    \n",
    "\n",
    "########################################ENTRADAS\n",
    "lista1 = [int(item) for item in input('Insira uma lista de números separados por espaços : ').split()]\n",
    "print(lista1)\n",
    "\n",
    "\n",
    "lista2 = [int(item) for item in input('Insira outra lista com a mesma qtd de números separados por espaços : ').split()]\n",
    "print(lista2, '\\n')\n",
    "\n",
    "########################################RESOLUÇÂO\n",
    "print('Somando cada elemento por posição de cada lista, teremos')\n",
    "somalist(lista1,lista2)\n"
   ]
  },
  {
   "cell_type": "code",
   "execution_count": 88,
   "id": "de780b32",
   "metadata": {},
   "outputs": [
    {
     "name": "stdout",
     "output_type": "stream",
     "text": [
      "Janeiro - 31\n",
      "Fevereiro - 29\n",
      "Março - 31\n",
      "Abril - 30\n",
      "Maio - 31\n",
      "Junho - 30\n",
      "Julho - 31\n",
      "Agosto - 31\n",
      "Setembro - 30\n",
      "Outubro - 31\n",
      "Novembro - 30\n",
      "Dezembro - 31\n"
     ]
    }
   ],
   "source": [
    "#4.Crie um dicionário cujas chaves são os meses do ano e os valores são a\n",
    "#duração (em dias) de cada mês.\n",
    "#5. Imprima as chaves seguidas dos seus valores para dicionário criado no\n",
    "#exercício anterior.\n",
    "\n",
    "calendar = {\n",
    "    'Janeiro':31,\n",
    "    'Fevereiro':29,\n",
    "    'Março': 31,\n",
    "    'Abril':30,\n",
    "    'Maio':31,\n",
    "    'Junho':30,\n",
    "    'Julho':31,\n",
    "    'Agosto':31,\n",
    "    'Setembro':30,\n",
    "    'Outubro':31,\n",
    "    'Novembro':30,\n",
    "    'Dezembro':31\n",
    "}\n",
    "\n",
    "for chave in calendar:\n",
    "    print(f'{chave} - {calendar[chave]}')"
   ]
  },
  {
   "cell_type": "code",
   "execution_count": null,
   "id": "bc2eae9c",
   "metadata": {},
   "outputs": [],
   "source": []
  },
  {
   "cell_type": "code",
   "execution_count": null,
   "id": "fe9856d1",
   "metadata": {},
   "outputs": [],
   "source": []
  },
  {
   "cell_type": "code",
   "execution_count": null,
   "id": "38f23fca",
   "metadata": {},
   "outputs": [],
   "source": []
  },
  {
   "cell_type": "code",
   "execution_count": null,
   "id": "8534a836",
   "metadata": {},
   "outputs": [],
   "source": []
  }
 ],
 "metadata": {
  "kernelspec": {
   "display_name": "Python 3 (ipykernel)",
   "language": "python",
   "name": "python3"
  },
  "language_info": {
   "codemirror_mode": {
    "name": "ipython",
    "version": 3
   },
   "file_extension": ".py",
   "mimetype": "text/x-python",
   "name": "python",
   "nbconvert_exporter": "python",
   "pygments_lexer": "ipython3",
   "version": "3.10.7"
  }
 },
 "nbformat": 4,
 "nbformat_minor": 5
}
